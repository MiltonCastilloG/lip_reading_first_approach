{
  "nbformat": 4,
  "nbformat_minor": 0,
  "metadata": {
    "colab": {
      "name": "Jose-VocalsLipReadingPython.ipynb",
      "provenance": [],
      "collapsed_sections": []
    },
    "kernelspec": {
      "name": "python3",
      "display_name": "Python 3"
    },
    "accelerator": "GPU"
  },
  "cells": [
    {
      "cell_type": "code",
      "metadata": {
        "id": "cvYRoaqzzJoS",
        "colab_type": "code",
        "colab": {}
      },
      "source": [
        "# Importar librerías a utilizar\n",
        "import numpy as np\n",
        "import matplotlib.pyplot as plt"
      ],
      "execution_count": 0,
      "outputs": []
    },
    {
      "cell_type": "code",
      "metadata": {
        "id": "b2UkQkIkVe8k",
        "colab_type": "code",
        "outputId": "d7cf211a-65d6-4ccf-bb98-39a0db4e673e",
        "colab": {
          "base_uri": "https://localhost:8080/",
          "height": 54
        }
      },
      "source": [
        "from google.colab import drive\n",
        "drive.mount('/content/drive')"
      ],
      "execution_count": 3,
      "outputs": [
        {
          "output_type": "stream",
          "text": [
            "Drive already mounted at /content/drive; to attempt to forcibly remount, call drive.mount(\"/content/drive\", force_remount=True).\n"
          ],
          "name": "stdout"
        }
      ]
    },
    {
      "cell_type": "code",
      "metadata": {
        "id": "_dAZIXz4Webm",
        "colab_type": "code",
        "colab": {}
      },
      "source": [
        "import json"
      ],
      "execution_count": 0,
      "outputs": []
    },
    {
      "cell_type": "code",
      "metadata": {
        "id": "DePWgT7TSEJN",
        "colab_type": "code",
        "colab": {}
      },
      "source": [
        "#load training data\n",
        "with open('train_set.json') as json_file:\n",
        "    data = json.load(json_file)"
      ],
      "execution_count": 0,
      "outputs": []
    },
    {
      "cell_type": "markdown",
      "metadata": {
        "id": "yO3d514DDzUc",
        "colab_type": "text"
      },
      "source": [
        "La posición 0 del train_set corresponde a los atributos y La posición 1 a las etiquetas"
      ]
    },
    {
      "cell_type": "code",
      "metadata": {
        "id": "w9W0Gk_1R_DV",
        "colab_type": "code",
        "colab": {}
      },
      "source": [
        "x_data=np.array(data[0])\n",
        "y_data=np.array(data[1])"
      ],
      "execution_count": 0,
      "outputs": []
    },
    {
      "cell_type": "markdown",
      "metadata": {
        "id": "QPTc20z_FHiI",
        "colab_type": "text"
      },
      "source": [
        "Preparación de las etiquetas a categorías"
      ]
    },
    {
      "cell_type": "code",
      "metadata": {
        "id": "O6S2BALoUyB3",
        "colab_type": "code",
        "colab": {
          "base_uri": "https://localhost:8080/",
          "height": 80
        },
        "outputId": "7e56f53c-0394-40dc-d15b-228706af231d"
      },
      "source": [
        "from keras.utils import to_categorical\n",
        "from sklearn.utils import shuffle"
      ],
      "execution_count": 10,
      "outputs": [
        {
          "output_type": "stream",
          "text": [
            "Using TensorFlow backend.\n"
          ],
          "name": "stderr"
        },
        {
          "output_type": "display_data",
          "data": {
            "text/html": [
              "<p style=\"color: red;\">\n",
              "The default version of TensorFlow in Colab will soon switch to TensorFlow 2.x.<br>\n",
              "We recommend you <a href=\"https://www.tensorflow.org/guide/migrate\" target=\"_blank\">upgrade</a> now \n",
              "or ensure your notebook will continue to use TensorFlow 1.x via the <code>%tensorflow_version 1.x</code> magic:\n",
              "<a href=\"https://colab.research.google.com/notebooks/tensorflow_version.ipynb\" target=\"_blank\">more info</a>.</p>\n"
            ],
            "text/plain": [
              "<IPython.core.display.HTML object>"
            ]
          },
          "metadata": {
            "tags": []
          }
        }
      ]
    },
    {
      "cell_type": "code",
      "metadata": {
        "id": "i1jSi6XTWyjl",
        "colab_type": "code",
        "colab": {}
      },
      "source": [
        "categorical_y_data=to_categorical(y_data)\n",
        "\n",
        "#shufle data\n",
        "x_data, y_data = shuffle(x_data, y_data,random_state=20)"
      ],
      "execution_count": 0,
      "outputs": []
    },
    {
      "cell_type": "markdown",
      "metadata": {
        "id": "MK_WgxKZFSGw",
        "colab_type": "text"
      },
      "source": [
        "Spliting text into train and test set "
      ]
    },
    {
      "cell_type": "code",
      "metadata": {
        "id": "0uLXg8SAFWHY",
        "colab_type": "code",
        "colab": {}
      },
      "source": [
        "train_size = round(len(x_data)*0.7);\n",
        "x_data_train, x_data_test = x_data[:train_size,:], x_data[train_size:,:]\n",
        "y_data_train = y_data[:train_size]\n",
        "y_data_test = y_data[train_size:]"
      ],
      "execution_count": 0,
      "outputs": []
    },
    {
      "cell_type": "markdown",
      "metadata": {
        "id": "r-wk1AkoFec-",
        "colab_type": "text"
      },
      "source": [
        "Crear la arquitectura de la red neuronal, formada por dos capas ocultas\n",
        "La capa de salida representa 5 categorías posibles (0 a 4, correspondientes con cada una de las vocales del Español respectivamente)"
      ]
    },
    {
      "cell_type": "code",
      "metadata": {
        "id": "14yR6GtnR6d2",
        "colab_type": "code",
        "colab": {}
      },
      "source": [
        "from keras import models\n",
        "from keras import layers"
      ],
      "execution_count": 0,
      "outputs": []
    },
    {
      "cell_type": "code",
      "metadata": {
        "id": "tvZ7zQJiSXrl",
        "colab_type": "code",
        "colab": {}
      },
      "source": [
        "network = models.Sequential()\n",
        "\n",
        "# Capa de entrada (con 20 distancias de las faciallandmarks) y primera capa oculta \n",
        "network.add(layers.Dense(512, activation='relu', input_shape=(20,)))\n",
        "network.add(layers.Dense(512, activation='relu'))\n",
        "\n",
        "# Capa de salida\n",
        "network.add(layers.Dense(5, activation='softmax'))\n",
        "\n",
        "# Definir la función de pérdida, el optimizador y las métricas para monitorizar el entrenamiento y la prueba de validación\n",
        "network.compile(optimizer='rmsprop',loss='categorical_crossentropy',metrics=['accuracy'])\n"
      ],
      "execution_count": 0,
      "outputs": []
    },
    {
      "cell_type": "code",
      "metadata": {
        "id": "inHxnk4pZN_O",
        "colab_type": "code",
        "outputId": "eb7071b7-4708-4821-97c1-4de08c17fe0d",
        "colab": {
          "base_uri": "https://localhost:8080/",
          "height": 1000
        }
      },
      "source": [
        "# Realizar el entrenamiento. Guardar el resultado en una variable denominada ‘historia’\n",
        "history = network.fit(x_data_train, y_data_train, epochs=150, batch_size=128, validation_data=(x_data_test, y_data_test))"
      ],
      "execution_count": 61,
      "outputs": [
        {
          "output_type": "stream",
          "text": [
            "Train on 920 samples, validate on 395 samples\n",
            "Epoch 1/150\n",
            "920/920 [==============================] - 1s 602us/step - loss: 9.7078 - acc: 0.2054 - val_loss: 10.1847 - val_acc: 0.1924\n",
            "Epoch 2/150\n",
            "920/920 [==============================] - 0s 48us/step - loss: 7.2135 - acc: 0.2043 - val_loss: 5.4085 - val_acc: 0.2203\n",
            "Epoch 3/150\n",
            "920/920 [==============================] - 0s 41us/step - loss: 4.8022 - acc: 0.2804 - val_loss: 4.1652 - val_acc: 0.3291\n",
            "Epoch 4/150\n",
            "920/920 [==============================] - 0s 42us/step - loss: 4.5131 - acc: 0.3315 - val_loss: 4.7260 - val_acc: 0.2759\n",
            "Epoch 5/150\n",
            "920/920 [==============================] - 0s 41us/step - loss: 4.6333 - acc: 0.3033 - val_loss: 4.2466 - val_acc: 0.1949\n",
            "Epoch 6/150\n",
            "920/920 [==============================] - 0s 45us/step - loss: 4.4540 - acc: 0.3391 - val_loss: 4.9208 - val_acc: 0.2430\n",
            "Epoch 7/150\n",
            "920/920 [==============================] - 0s 43us/step - loss: 4.0361 - acc: 0.3141 - val_loss: 1.5320 - val_acc: 0.3924\n",
            "Epoch 8/150\n",
            "920/920 [==============================] - 0s 43us/step - loss: 1.6259 - acc: 0.3359 - val_loss: 1.4742 - val_acc: 0.4835\n",
            "Epoch 9/150\n",
            "920/920 [==============================] - 0s 40us/step - loss: 1.4557 - acc: 0.3967 - val_loss: 1.5981 - val_acc: 0.4203\n",
            "Epoch 10/150\n",
            "920/920 [==============================] - 0s 48us/step - loss: 1.3614 - acc: 0.4043 - val_loss: 1.4977 - val_acc: 0.3671\n",
            "Epoch 11/150\n",
            "920/920 [==============================] - 0s 40us/step - loss: 1.3559 - acc: 0.4185 - val_loss: 1.3079 - val_acc: 0.4405\n",
            "Epoch 12/150\n",
            "920/920 [==============================] - 0s 42us/step - loss: 1.2962 - acc: 0.4293 - val_loss: 1.3457 - val_acc: 0.4304\n",
            "Epoch 13/150\n",
            "920/920 [==============================] - 0s 46us/step - loss: 1.3447 - acc: 0.3826 - val_loss: 1.2285 - val_acc: 0.4582\n",
            "Epoch 14/150\n",
            "920/920 [==============================] - 0s 41us/step - loss: 1.1901 - acc: 0.4663 - val_loss: 1.4234 - val_acc: 0.3797\n",
            "Epoch 15/150\n",
            "920/920 [==============================] - 0s 39us/step - loss: 1.2771 - acc: 0.4533 - val_loss: 1.4784 - val_acc: 0.4177\n",
            "Epoch 16/150\n",
            "920/920 [==============================] - 0s 43us/step - loss: 1.1971 - acc: 0.4902 - val_loss: 1.3698 - val_acc: 0.4582\n",
            "Epoch 17/150\n",
            "920/920 [==============================] - 0s 50us/step - loss: 1.1806 - acc: 0.4837 - val_loss: 1.3742 - val_acc: 0.4025\n",
            "Epoch 18/150\n",
            "920/920 [==============================] - 0s 40us/step - loss: 1.1789 - acc: 0.4815 - val_loss: 1.3106 - val_acc: 0.4203\n",
            "Epoch 19/150\n",
            "920/920 [==============================] - 0s 41us/step - loss: 1.1663 - acc: 0.4696 - val_loss: 1.4723 - val_acc: 0.3595\n",
            "Epoch 20/150\n",
            "920/920 [==============================] - 0s 39us/step - loss: 1.1448 - acc: 0.5043 - val_loss: 1.3060 - val_acc: 0.4861\n",
            "Epoch 21/150\n",
            "920/920 [==============================] - 0s 46us/step - loss: 1.0796 - acc: 0.5163 - val_loss: 1.2812 - val_acc: 0.4127\n",
            "Epoch 22/150\n",
            "920/920 [==============================] - 0s 44us/step - loss: 1.2075 - acc: 0.4717 - val_loss: 1.1489 - val_acc: 0.4658\n",
            "Epoch 23/150\n",
            "920/920 [==============================] - 0s 47us/step - loss: 1.0847 - acc: 0.4859 - val_loss: 1.1660 - val_acc: 0.4253\n",
            "Epoch 24/150\n",
            "920/920 [==============================] - 0s 37us/step - loss: 1.0667 - acc: 0.5163 - val_loss: 1.2047 - val_acc: 0.4633\n",
            "Epoch 25/150\n",
            "920/920 [==============================] - 0s 43us/step - loss: 1.0973 - acc: 0.4924 - val_loss: 1.2333 - val_acc: 0.4582\n",
            "Epoch 26/150\n",
            "920/920 [==============================] - 0s 45us/step - loss: 1.0445 - acc: 0.5446 - val_loss: 1.1796 - val_acc: 0.4835\n",
            "Epoch 27/150\n",
            "920/920 [==============================] - 0s 42us/step - loss: 1.0794 - acc: 0.4978 - val_loss: 1.1441 - val_acc: 0.5013\n",
            "Epoch 28/150\n",
            "920/920 [==============================] - 0s 45us/step - loss: 1.0277 - acc: 0.5163 - val_loss: 1.0840 - val_acc: 0.5215\n",
            "Epoch 29/150\n",
            "920/920 [==============================] - 0s 45us/step - loss: 1.0855 - acc: 0.5250 - val_loss: 1.1423 - val_acc: 0.4785\n",
            "Epoch 30/150\n",
            "920/920 [==============================] - 0s 39us/step - loss: 0.9876 - acc: 0.5565 - val_loss: 1.3053 - val_acc: 0.4228\n",
            "Epoch 31/150\n",
            "920/920 [==============================] - 0s 38us/step - loss: 1.0272 - acc: 0.5489 - val_loss: 1.3186 - val_acc: 0.4405\n",
            "Epoch 32/150\n",
            "920/920 [==============================] - 0s 42us/step - loss: 1.0306 - acc: 0.5250 - val_loss: 1.2215 - val_acc: 0.4785\n",
            "Epoch 33/150\n",
            "920/920 [==============================] - 0s 44us/step - loss: 1.0025 - acc: 0.5554 - val_loss: 1.2576 - val_acc: 0.4582\n",
            "Epoch 34/150\n",
            "920/920 [==============================] - 0s 48us/step - loss: 1.0301 - acc: 0.5446 - val_loss: 1.4868 - val_acc: 0.3899\n",
            "Epoch 35/150\n",
            "920/920 [==============================] - 0s 44us/step - loss: 0.9885 - acc: 0.5750 - val_loss: 1.1721 - val_acc: 0.4886\n",
            "Epoch 36/150\n",
            "920/920 [==============================] - 0s 46us/step - loss: 1.0147 - acc: 0.5576 - val_loss: 1.2463 - val_acc: 0.4835\n",
            "Epoch 37/150\n",
            "920/920 [==============================] - 0s 45us/step - loss: 0.9332 - acc: 0.5728 - val_loss: 1.1911 - val_acc: 0.4835\n",
            "Epoch 38/150\n",
            "920/920 [==============================] - 0s 41us/step - loss: 0.9559 - acc: 0.5620 - val_loss: 1.1564 - val_acc: 0.4709\n",
            "Epoch 39/150\n",
            "920/920 [==============================] - 0s 41us/step - loss: 0.9342 - acc: 0.5761 - val_loss: 1.1309 - val_acc: 0.5139\n",
            "Epoch 40/150\n",
            "920/920 [==============================] - 0s 43us/step - loss: 0.9555 - acc: 0.5609 - val_loss: 0.9992 - val_acc: 0.5190\n",
            "Epoch 41/150\n",
            "920/920 [==============================] - 0s 42us/step - loss: 0.8645 - acc: 0.6109 - val_loss: 1.1948 - val_acc: 0.4886\n",
            "Epoch 42/150\n",
            "920/920 [==============================] - 0s 42us/step - loss: 0.9332 - acc: 0.6011 - val_loss: 1.2550 - val_acc: 0.4354\n",
            "Epoch 43/150\n",
            "920/920 [==============================] - 0s 50us/step - loss: 0.9077 - acc: 0.5707 - val_loss: 1.1904 - val_acc: 0.4911\n",
            "Epoch 44/150\n",
            "920/920 [==============================] - 0s 41us/step - loss: 1.0036 - acc: 0.5565 - val_loss: 1.0694 - val_acc: 0.5063\n",
            "Epoch 45/150\n",
            "920/920 [==============================] - 0s 40us/step - loss: 0.8885 - acc: 0.6076 - val_loss: 1.3212 - val_acc: 0.4456\n",
            "Epoch 46/150\n",
            "920/920 [==============================] - 0s 39us/step - loss: 0.9890 - acc: 0.5674 - val_loss: 0.9490 - val_acc: 0.5772\n",
            "Epoch 47/150\n",
            "920/920 [==============================] - 0s 52us/step - loss: 0.8638 - acc: 0.6283 - val_loss: 1.2614 - val_acc: 0.4658\n",
            "Epoch 48/150\n",
            "920/920 [==============================] - 0s 46us/step - loss: 0.9111 - acc: 0.5935 - val_loss: 1.0331 - val_acc: 0.5544\n",
            "Epoch 49/150\n",
            "920/920 [==============================] - 0s 40us/step - loss: 0.8787 - acc: 0.6163 - val_loss: 1.0888 - val_acc: 0.5089\n",
            "Epoch 50/150\n",
            "920/920 [==============================] - 0s 39us/step - loss: 0.8955 - acc: 0.5870 - val_loss: 1.1670 - val_acc: 0.4734\n",
            "Epoch 51/150\n",
            "920/920 [==============================] - 0s 42us/step - loss: 0.8858 - acc: 0.6011 - val_loss: 1.0675 - val_acc: 0.4810\n",
            "Epoch 52/150\n",
            "920/920 [==============================] - 0s 44us/step - loss: 0.8536 - acc: 0.6011 - val_loss: 1.1480 - val_acc: 0.4557\n",
            "Epoch 53/150\n",
            "920/920 [==============================] - 0s 43us/step - loss: 0.9215 - acc: 0.5772 - val_loss: 1.0386 - val_acc: 0.5063\n",
            "Epoch 54/150\n",
            "920/920 [==============================] - 0s 51us/step - loss: 0.8151 - acc: 0.6348 - val_loss: 1.1662 - val_acc: 0.4582\n",
            "Epoch 55/150\n",
            "920/920 [==============================] - 0s 47us/step - loss: 0.8972 - acc: 0.6033 - val_loss: 1.1447 - val_acc: 0.5139\n",
            "Epoch 56/150\n",
            "920/920 [==============================] - 0s 44us/step - loss: 0.9484 - acc: 0.5913 - val_loss: 1.2506 - val_acc: 0.4937\n",
            "Epoch 57/150\n",
            "920/920 [==============================] - 0s 46us/step - loss: 0.8468 - acc: 0.6489 - val_loss: 1.0039 - val_acc: 0.5696\n",
            "Epoch 58/150\n",
            "920/920 [==============================] - 0s 46us/step - loss: 0.8850 - acc: 0.5935 - val_loss: 1.0628 - val_acc: 0.5114\n",
            "Epoch 59/150\n",
            "920/920 [==============================] - 0s 39us/step - loss: 0.7893 - acc: 0.6609 - val_loss: 1.2334 - val_acc: 0.4430\n",
            "Epoch 60/150\n",
            "920/920 [==============================] - 0s 39us/step - loss: 0.9061 - acc: 0.6087 - val_loss: 0.9773 - val_acc: 0.5443\n",
            "Epoch 61/150\n",
            "920/920 [==============================] - 0s 36us/step - loss: 0.7988 - acc: 0.6554 - val_loss: 1.2428 - val_acc: 0.5063\n",
            "Epoch 62/150\n",
            "920/920 [==============================] - 0s 41us/step - loss: 0.8522 - acc: 0.6250 - val_loss: 0.9571 - val_acc: 0.5671\n",
            "Epoch 63/150\n",
            "920/920 [==============================] - 0s 44us/step - loss: 0.8519 - acc: 0.6283 - val_loss: 1.1643 - val_acc: 0.4937\n",
            "Epoch 64/150\n",
            "920/920 [==============================] - 0s 44us/step - loss: 0.8529 - acc: 0.6087 - val_loss: 1.0278 - val_acc: 0.5696\n",
            "Epoch 65/150\n",
            "920/920 [==============================] - 0s 45us/step - loss: 0.7944 - acc: 0.6370 - val_loss: 1.0765 - val_acc: 0.5013\n",
            "Epoch 66/150\n",
            "920/920 [==============================] - 0s 39us/step - loss: 0.9077 - acc: 0.5880 - val_loss: 0.9860 - val_acc: 0.5722\n",
            "Epoch 67/150\n",
            "920/920 [==============================] - 0s 45us/step - loss: 0.7817 - acc: 0.6576 - val_loss: 1.1457 - val_acc: 0.5291\n",
            "Epoch 68/150\n",
            "920/920 [==============================] - 0s 43us/step - loss: 0.8040 - acc: 0.6413 - val_loss: 1.2897 - val_acc: 0.3975\n",
            "Epoch 69/150\n",
            "920/920 [==============================] - 0s 49us/step - loss: 0.8309 - acc: 0.6228 - val_loss: 1.0366 - val_acc: 0.5468\n",
            "Epoch 70/150\n",
            "920/920 [==============================] - 0s 37us/step - loss: 0.8680 - acc: 0.5957 - val_loss: 0.9868 - val_acc: 0.5747\n",
            "Epoch 71/150\n",
            "920/920 [==============================] - 0s 40us/step - loss: 0.8602 - acc: 0.6370 - val_loss: 0.9282 - val_acc: 0.5949\n",
            "Epoch 72/150\n",
            "920/920 [==============================] - 0s 51us/step - loss: 0.7706 - acc: 0.6739 - val_loss: 1.1365 - val_acc: 0.5038\n",
            "Epoch 73/150\n",
            "920/920 [==============================] - 0s 45us/step - loss: 0.8304 - acc: 0.6228 - val_loss: 1.0856 - val_acc: 0.5443\n",
            "Epoch 74/150\n",
            "920/920 [==============================] - 0s 40us/step - loss: 0.8517 - acc: 0.6261 - val_loss: 1.0910 - val_acc: 0.4810\n",
            "Epoch 75/150\n",
            "920/920 [==============================] - 0s 41us/step - loss: 0.7583 - acc: 0.6630 - val_loss: 1.5383 - val_acc: 0.4633\n",
            "Epoch 76/150\n",
            "920/920 [==============================] - 0s 44us/step - loss: 0.8441 - acc: 0.6511 - val_loss: 0.9571 - val_acc: 0.5848\n",
            "Epoch 77/150\n",
            "920/920 [==============================] - 0s 43us/step - loss: 0.7454 - acc: 0.6739 - val_loss: 1.2024 - val_acc: 0.4886\n",
            "Epoch 78/150\n",
            "920/920 [==============================] - 0s 41us/step - loss: 0.7712 - acc: 0.6815 - val_loss: 1.1123 - val_acc: 0.5215\n",
            "Epoch 79/150\n",
            "920/920 [==============================] - 0s 41us/step - loss: 0.7828 - acc: 0.6370 - val_loss: 1.1532 - val_acc: 0.5392\n",
            "Epoch 80/150\n",
            "920/920 [==============================] - 0s 40us/step - loss: 0.7875 - acc: 0.6652 - val_loss: 1.0362 - val_acc: 0.5519\n",
            "Epoch 81/150\n",
            "920/920 [==============================] - 0s 46us/step - loss: 0.7834 - acc: 0.6402 - val_loss: 1.1256 - val_acc: 0.5038\n",
            "Epoch 82/150\n",
            "920/920 [==============================] - 0s 45us/step - loss: 0.8518 - acc: 0.6293 - val_loss: 0.9133 - val_acc: 0.5848\n",
            "Epoch 83/150\n",
            "920/920 [==============================] - 0s 44us/step - loss: 0.7695 - acc: 0.6413 - val_loss: 1.1209 - val_acc: 0.5114\n",
            "Epoch 84/150\n",
            "920/920 [==============================] - 0s 41us/step - loss: 0.7073 - acc: 0.7076 - val_loss: 0.9812 - val_acc: 0.5696\n",
            "Epoch 85/150\n",
            "920/920 [==============================] - 0s 43us/step - loss: 0.7418 - acc: 0.6576 - val_loss: 1.0271 - val_acc: 0.5848\n",
            "Epoch 86/150\n",
            "920/920 [==============================] - 0s 40us/step - loss: 0.7701 - acc: 0.6576 - val_loss: 1.0203 - val_acc: 0.5266\n",
            "Epoch 87/150\n",
            "920/920 [==============================] - 0s 38us/step - loss: 0.8004 - acc: 0.6435 - val_loss: 1.0120 - val_acc: 0.5747\n",
            "Epoch 88/150\n",
            "920/920 [==============================] - 0s 42us/step - loss: 0.6982 - acc: 0.6793 - val_loss: 1.0861 - val_acc: 0.5316\n",
            "Epoch 89/150\n",
            "920/920 [==============================] - 0s 43us/step - loss: 0.7673 - acc: 0.6685 - val_loss: 1.0302 - val_acc: 0.5316\n",
            "Epoch 90/150\n",
            "920/920 [==============================] - 0s 39us/step - loss: 0.7796 - acc: 0.6500 - val_loss: 0.9431 - val_acc: 0.5747\n",
            "Epoch 91/150\n",
            "920/920 [==============================] - 0s 49us/step - loss: 0.7720 - acc: 0.6696 - val_loss: 1.0676 - val_acc: 0.5494\n",
            "Epoch 92/150\n",
            "920/920 [==============================] - 0s 45us/step - loss: 0.6829 - acc: 0.6891 - val_loss: 1.3090 - val_acc: 0.5570\n",
            "Epoch 93/150\n",
            "920/920 [==============================] - 0s 43us/step - loss: 0.7666 - acc: 0.6924 - val_loss: 1.1587 - val_acc: 0.4835\n",
            "Epoch 94/150\n",
            "920/920 [==============================] - 0s 40us/step - loss: 0.7483 - acc: 0.6772 - val_loss: 1.2628 - val_acc: 0.4886\n",
            "Epoch 95/150\n",
            "920/920 [==============================] - 0s 39us/step - loss: 0.7505 - acc: 0.6609 - val_loss: 1.0539 - val_acc: 0.5392\n",
            "Epoch 96/150\n",
            "920/920 [==============================] - 0s 45us/step - loss: 0.7261 - acc: 0.6848 - val_loss: 1.1302 - val_acc: 0.5089\n",
            "Epoch 97/150\n",
            "920/920 [==============================] - 0s 48us/step - loss: 0.7333 - acc: 0.6750 - val_loss: 0.9673 - val_acc: 0.5823\n",
            "Epoch 98/150\n",
            "920/920 [==============================] - 0s 45us/step - loss: 0.7099 - acc: 0.6946 - val_loss: 1.1961 - val_acc: 0.4987\n",
            "Epoch 99/150\n",
            "920/920 [==============================] - 0s 40us/step - loss: 0.7206 - acc: 0.6761 - val_loss: 0.8693 - val_acc: 0.6025\n",
            "Epoch 100/150\n",
            "920/920 [==============================] - 0s 43us/step - loss: 0.6785 - acc: 0.6989 - val_loss: 1.0128 - val_acc: 0.5595\n",
            "Epoch 101/150\n",
            "920/920 [==============================] - 0s 40us/step - loss: 0.7184 - acc: 0.6685 - val_loss: 1.4094 - val_acc: 0.4911\n",
            "Epoch 102/150\n",
            "920/920 [==============================] - 0s 37us/step - loss: 0.7629 - acc: 0.6674 - val_loss: 1.0889 - val_acc: 0.5544\n",
            "Epoch 103/150\n",
            "920/920 [==============================] - 0s 48us/step - loss: 0.6704 - acc: 0.7033 - val_loss: 0.9913 - val_acc: 0.5392\n",
            "Epoch 104/150\n",
            "920/920 [==============================] - 0s 39us/step - loss: 0.8206 - acc: 0.6543 - val_loss: 1.0359 - val_acc: 0.5823\n",
            "Epoch 105/150\n",
            "920/920 [==============================] - 0s 43us/step - loss: 0.6706 - acc: 0.7239 - val_loss: 1.0851 - val_acc: 0.5215\n",
            "Epoch 106/150\n",
            "920/920 [==============================] - 0s 45us/step - loss: 0.7300 - acc: 0.6696 - val_loss: 0.9339 - val_acc: 0.5848\n",
            "Epoch 107/150\n",
            "920/920 [==============================] - 0s 45us/step - loss: 0.6757 - acc: 0.7109 - val_loss: 0.9728 - val_acc: 0.5848\n",
            "Epoch 108/150\n",
            "920/920 [==============================] - 0s 39us/step - loss: 0.6764 - acc: 0.7120 - val_loss: 1.2072 - val_acc: 0.5418\n",
            "Epoch 109/150\n",
            "920/920 [==============================] - 0s 38us/step - loss: 0.7736 - acc: 0.6804 - val_loss: 1.0453 - val_acc: 0.5873\n",
            "Epoch 110/150\n",
            "920/920 [==============================] - 0s 56us/step - loss: 0.7484 - acc: 0.6620 - val_loss: 1.0756 - val_acc: 0.5291\n",
            "Epoch 111/150\n",
            "920/920 [==============================] - 0s 41us/step - loss: 0.6814 - acc: 0.7022 - val_loss: 1.1738 - val_acc: 0.5392\n",
            "Epoch 112/150\n",
            "920/920 [==============================] - 0s 46us/step - loss: 0.7147 - acc: 0.6804 - val_loss: 0.9186 - val_acc: 0.5949\n",
            "Epoch 113/150\n",
            "920/920 [==============================] - 0s 41us/step - loss: 0.6401 - acc: 0.7207 - val_loss: 0.9528 - val_acc: 0.5646\n",
            "Epoch 114/150\n",
            "920/920 [==============================] - 0s 47us/step - loss: 0.7160 - acc: 0.6815 - val_loss: 0.9480 - val_acc: 0.6101\n",
            "Epoch 115/150\n",
            "920/920 [==============================] - 0s 42us/step - loss: 0.6569 - acc: 0.7196 - val_loss: 0.9940 - val_acc: 0.5646\n",
            "Epoch 116/150\n",
            "920/920 [==============================] - 0s 44us/step - loss: 0.6955 - acc: 0.6826 - val_loss: 0.7785 - val_acc: 0.6633\n",
            "Epoch 117/150\n",
            "920/920 [==============================] - 0s 46us/step - loss: 0.6558 - acc: 0.7152 - val_loss: 1.1040 - val_acc: 0.5241\n",
            "Epoch 118/150\n",
            "920/920 [==============================] - 0s 41us/step - loss: 0.7324 - acc: 0.6815 - val_loss: 0.9537 - val_acc: 0.5544\n",
            "Epoch 119/150\n",
            "920/920 [==============================] - 0s 43us/step - loss: 0.6552 - acc: 0.7065 - val_loss: 0.8761 - val_acc: 0.6025\n",
            "Epoch 120/150\n",
            "920/920 [==============================] - 0s 45us/step - loss: 0.7277 - acc: 0.6630 - val_loss: 1.2329 - val_acc: 0.5291\n",
            "Epoch 121/150\n",
            "920/920 [==============================] - 0s 51us/step - loss: 0.7060 - acc: 0.6978 - val_loss: 1.1958 - val_acc: 0.5418\n",
            "Epoch 122/150\n",
            "920/920 [==============================] - 0s 47us/step - loss: 0.7193 - acc: 0.6717 - val_loss: 1.0466 - val_acc: 0.5949\n",
            "Epoch 123/150\n",
            "920/920 [==============================] - 0s 47us/step - loss: 0.6361 - acc: 0.7326 - val_loss: 0.9942 - val_acc: 0.6076\n",
            "Epoch 124/150\n",
            "920/920 [==============================] - 0s 42us/step - loss: 0.5992 - acc: 0.7707 - val_loss: 0.9792 - val_acc: 0.5975\n",
            "Epoch 125/150\n",
            "920/920 [==============================] - 0s 41us/step - loss: 0.7440 - acc: 0.6880 - val_loss: 1.3730 - val_acc: 0.4684\n",
            "Epoch 126/150\n",
            "920/920 [==============================] - 0s 38us/step - loss: 0.7231 - acc: 0.7033 - val_loss: 0.9812 - val_acc: 0.5544\n",
            "Epoch 127/150\n",
            "920/920 [==============================] - 0s 40us/step - loss: 0.6571 - acc: 0.7076 - val_loss: 0.8478 - val_acc: 0.5848\n",
            "Epoch 128/150\n",
            "920/920 [==============================] - 0s 45us/step - loss: 0.6189 - acc: 0.7370 - val_loss: 1.0873 - val_acc: 0.5038\n",
            "Epoch 129/150\n",
            "920/920 [==============================] - 0s 45us/step - loss: 0.6484 - acc: 0.7217 - val_loss: 1.0076 - val_acc: 0.5418\n",
            "Epoch 130/150\n",
            "920/920 [==============================] - 0s 51us/step - loss: 0.6529 - acc: 0.7185 - val_loss: 0.9349 - val_acc: 0.5848\n",
            "Epoch 131/150\n",
            "920/920 [==============================] - 0s 43us/step - loss: 0.6069 - acc: 0.7402 - val_loss: 0.9919 - val_acc: 0.5949\n",
            "Epoch 132/150\n",
            "920/920 [==============================] - 0s 42us/step - loss: 0.7871 - acc: 0.6761 - val_loss: 1.4269 - val_acc: 0.5114\n",
            "Epoch 133/150\n",
            "920/920 [==============================] - 0s 41us/step - loss: 0.6694 - acc: 0.7250 - val_loss: 0.9494 - val_acc: 0.5772\n",
            "Epoch 134/150\n",
            "920/920 [==============================] - 0s 45us/step - loss: 0.6562 - acc: 0.6957 - val_loss: 0.8642 - val_acc: 0.6278\n",
            "Epoch 135/150\n",
            "920/920 [==============================] - 0s 44us/step - loss: 0.5889 - acc: 0.7500 - val_loss: 2.0355 - val_acc: 0.4481\n",
            "Epoch 136/150\n",
            "920/920 [==============================] - 0s 43us/step - loss: 0.7758 - acc: 0.6902 - val_loss: 0.8506 - val_acc: 0.6532\n",
            "Epoch 137/150\n",
            "920/920 [==============================] - 0s 48us/step - loss: 0.5913 - acc: 0.7424 - val_loss: 1.0117 - val_acc: 0.5544\n",
            "Epoch 138/150\n",
            "920/920 [==============================] - 0s 39us/step - loss: 0.6332 - acc: 0.7185 - val_loss: 1.1225 - val_acc: 0.5848\n",
            "Epoch 139/150\n",
            "920/920 [==============================] - 0s 40us/step - loss: 0.6239 - acc: 0.7283 - val_loss: 1.0657 - val_acc: 0.5316\n",
            "Epoch 140/150\n",
            "920/920 [==============================] - 0s 46us/step - loss: 0.6210 - acc: 0.7304 - val_loss: 1.0454 - val_acc: 0.5646\n",
            "Epoch 141/150\n",
            "920/920 [==============================] - 0s 42us/step - loss: 0.6383 - acc: 0.7391 - val_loss: 1.2962 - val_acc: 0.4532\n",
            "Epoch 142/150\n",
            "920/920 [==============================] - 0s 42us/step - loss: 0.6806 - acc: 0.7087 - val_loss: 0.8098 - val_acc: 0.6532\n",
            "Epoch 143/150\n",
            "920/920 [==============================] - 0s 51us/step - loss: 0.5772 - acc: 0.7522 - val_loss: 1.2161 - val_acc: 0.5316\n",
            "Epoch 144/150\n",
            "920/920 [==============================] - 0s 40us/step - loss: 0.6562 - acc: 0.7163 - val_loss: 0.9200 - val_acc: 0.6380\n",
            "Epoch 145/150\n",
            "920/920 [==============================] - 0s 49us/step - loss: 0.5849 - acc: 0.7446 - val_loss: 1.0276 - val_acc: 0.5646\n",
            "Epoch 146/150\n",
            "920/920 [==============================] - 0s 66us/step - loss: 0.5974 - acc: 0.7272 - val_loss: 1.0339 - val_acc: 0.6278\n",
            "Epoch 147/150\n",
            "920/920 [==============================] - 0s 43us/step - loss: 0.6793 - acc: 0.7033 - val_loss: 0.8027 - val_acc: 0.6481\n",
            "Epoch 148/150\n",
            "920/920 [==============================] - 0s 46us/step - loss: 0.6022 - acc: 0.7457 - val_loss: 0.9621 - val_acc: 0.5772\n",
            "Epoch 149/150\n",
            "920/920 [==============================] - 0s 47us/step - loss: 0.6300 - acc: 0.7196 - val_loss: 1.3002 - val_acc: 0.5392\n",
            "Epoch 150/150\n",
            "920/920 [==============================] - 0s 49us/step - loss: 0.6656 - acc: 0.7272 - val_loss: 0.7805 - val_acc: 0.6785\n"
          ],
          "name": "stdout"
        }
      ]
    },
    {
      "cell_type": "code",
      "metadata": {
        "id": "9KF0l2niTNQ1",
        "colab_type": "code",
        "outputId": "eb403bc5-bc40-4b7a-81aa-35b9fd52d280",
        "colab": {
          "base_uri": "https://localhost:8080/",
          "height": 297
        }
      },
      "source": [
        "# Visualizar las métricas\n",
        "fig = plt.figure()\n",
        "plt.subplot(2,1,1)\n",
        "plt.plot(history.history['acc'])\n",
        "plt.plot(history.history['val_acc'])\n",
        "plt.title('Precición del modelo')\n",
        "plt.ylabel('Precision')\n",
        "plt.xlabel('epoch')\n",
        "plt.legend(['Entrenamiento', 'Test'], loc='lower right')\n",
        "\n",
        "plt.subplot(2,1,2)\n",
        "plt.plot(history.history['loss'])\n",
        "plt.plot(history.history['val_loss'])\n",
        "plt.title('Pérdida del modelo')\n",
        "plt.ylabel('Pérdida')\n",
        "plt.xlabel('epoch')\n",
        "plt.legend(['Entrenamiento', 'Test'], loc='upper right')\n",
        "\n",
        "plt.tight_layout()\n",
        "\n",
        "plt.show()"
      ],
      "execution_count": 62,
      "outputs": [
        {
          "output_type": "display_data",
          "data": {
            "image/png": "[encoded data removed]",
            "text/plain": [
              "<Figure size 432x288 with 2 Axes>"
            ]
          },
          "metadata": {
            "tags": []
          }
        }
      ]
    },
    {
      "cell_type": "code",
      "metadata": {
        "id": "CE7XK3GgSb8s",
        "colab_type": "code",
        "outputId": "9a0b86da-14e8-4770-8231-fcfa3b95dfad",
        "colab": {
          "base_uri": "https://localhost:8080/",
          "height": 51
        }
      },
      "source": [
        "#fig\n",
        "\n",
        "# Comprobar el ajuste o error del modelo respecto del conjunto de prueba\n",
        "test_loss, test_acc = network.evaluate(x_data_test, y_data_test)\n",
        "print('test_acc:', test_acc)"
      ],
      "execution_count": 63,
      "outputs": [
        {
          "output_type": "stream",
          "text": [
            "395/395 [==============================] - 0s 80us/step\n",
            "test_acc: 0.6784810131109213\n"
          ],
          "name": "stdout"
        }
      ]
    },
    {
      "cell_type": "markdown",
      "metadata": {
        "id": "-YnBQ2HOR7oR",
        "colab_type": "text"
      },
      "source": [
        "Guardar el modelo en formato JSON"
      ]
    },
    {
      "cell_type": "code",
      "metadata": {
        "id": "FUUywPI4Se4l",
        "colab_type": "code",
        "colab": {}
      },
      "source": [
        "from keras.models import model_from_json\n",
        "model_json = network.to_json()\n",
        "with open(\"network_clase.json\", \"w\") as json_file:\n",
        "    json_file.write(model_json)\n",
        "\n"
      ],
      "execution_count": 0,
      "outputs": []
    },
    {
      "cell_type": "markdown",
      "metadata": {
        "id": "gGt7T_X7R_u6",
        "colab_type": "text"
      },
      "source": [
        "Guardar los pesos de la red"
      ]
    },
    {
      "cell_type": "code",
      "metadata": {
        "id": "cK9G9N78SBE5",
        "colab_type": "code",
        "colab": {
          "base_uri": "https://localhost:8080/",
          "height": 34
        },
        "outputId": "87b6be39-47c0-40d6-9c25-f2958365b94a"
      },
      "source": [
        "network.save_weights(\"network_weights_clase.h5\")\n",
        "print(\"Guardado el modelo a disco\")"
      ],
      "execution_count": 67,
      "outputs": [
        {
          "output_type": "stream",
          "text": [
            "Guardado el modelo a disco\n"
          ],
          "name": "stdout"
        }
      ]
    },
    {
      "cell_type": "markdown",
      "metadata": {
        "id": "-QLET1uATWEJ",
        "colab_type": "text"
      },
      "source": [
        "#Test del Modelo\n",
        "cargado del modelo en json compilado"
      ]
    },
    {
      "cell_type": "code",
      "metadata": {
        "id": "bfYDDGcrSjDs",
        "colab_type": "code",
        "colab": {
          "base_uri": "https://localhost:8080/",
          "height": 34
        },
        "outputId": "dae8c871-dbac-4147-cf04-0d0e0c96c562"
      },
      "source": [
        "# Leer JSON y crear el modelo\n",
        "from keras.models import model_from_json\n",
        "\n",
        "json_file = open(\"network_clase.json\", \"r\")\n",
        "loaded_model_json = json_file.read()\n",
        "json_file.close()\n",
        "loaded_model = model_from_json(loaded_model_json)\n",
        "\n",
        "# Cargar los pesos (weights) en un nuevo modelo\n",
        "loaded_model.load_weights(\"network_weights_clase.h5\")\n",
        "print(\"Modelo cargado desde el disco\")"
      ],
      "execution_count": 68,
      "outputs": [
        {
          "output_type": "stream",
          "text": [
            "Modelo cargado desde el disco\n"
          ],
          "name": "stdout"
        }
      ]
    },
    {
      "cell_type": "code",
      "metadata": {
        "id": "GiMZl_HmSlfs",
        "colab_type": "code",
        "colab": {}
      },
      "source": [
        "# Predecir sobre el conjunto de test\n",
        "predicted_classes = loaded_model.predict_classes(x_data_test)"
      ],
      "execution_count": 0,
      "outputs": []
    },
    {
      "cell_type": "code",
      "metadata": {
        "id": "x4qLZqS8Sptk",
        "colab_type": "code",
        "colab": {
          "base_uri": "https://localhost:8080/",
          "height": 51
        },
        "outputId": "aa4580f1-26f2-4629-d132-d79dd9f6eef8"
      },
      "source": [
        "right_predicted=0\n",
        "wrong_predicted=0\n",
        "\n",
        "for i in range(len(predicted_classes)):\n",
        "  if(predicted_classes[i]==np.nonzero(y_data_test[i])):\n",
        "    right_predicted=right_predicted+1\n",
        "  else:\n",
        "    wrong_predicted=wrong_predicted+1\n",
        "\n",
        "print(right_predicted,\"clasificados correctamente\")\n",
        "print(wrong_predicted,\"clasificados incorrectamente\")"
      ],
      "execution_count": 86,
      "outputs": [
        {
          "output_type": "stream",
          "text": [
            "268 clasificados correctamente\n",
            "127 clasificados incorrectamente\n"
          ],
          "name": "stdout"
        }
      ]
    }
  ]
}